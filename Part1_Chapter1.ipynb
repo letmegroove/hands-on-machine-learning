{
 "cells": [
  {
   "cell_type": "markdown",
   "metadata": {},
   "source": [
    "# Machine Learning\n",
    "\n",
    ">> 일반적 ML 종류\n",
    "\n",
    " 1. Supervised Learning(지도학습)\n",
    "  - Lable(답) 이 포함된 Training Data 로 학습\n",
    "  - 가장 일반적인 ML 알고리즘\n",
    "  - Classification(분류) 가 가장 전형적인 지도학습\n",
    "  - Predictor variable(예측변수) 라 부르는 Feature(특성..주행거리, 연식 등) 을 사용해\n",
    "    중고차 가격 같은 Target 을 예측하는 것에도 많이 쓰임 -> 이런 방식을 Regression(회귀) 라 부른다\n",
    "  - 주요 알고리즘\n",
    "   . K-Nearest Neighbors (K 최근접 이웃)\n",
    "   . Linear Regression (선형회귀)\n",
    "   . Logistic Regression (로지스틱회귀)\n",
    "   . Support Vector Machine (SVM)\n",
    "   . Decision Tree 와 Random Forest\n",
    "   . Neural Network (신경망)\n",
    "  \n",
    " 2. Unsupervised Learning(비지도학습)\n",
    "  - Lable 이 없는 Training Data 로 학습\n",
    "  - Clustering 이나 연관도/경향도를 보여주는데 주로 사용\n",
    "  - NLP, Word2Vec 등에서 각 단어간의 관계를 학습하기 위해 종종 쓰입니다.(K-Means)\n",
    "  - 신용카드 이상사용 징후 탐지 시에도 쓰인다네요.\n",
    "  - 주요 알고리즘\n",
    "   * Clustering(군집화)\n",
    "    . K-Means(K-평균)\n",
    "    . Hierarchical Cluster Analysis(HCA 계층군집)\n",
    "    . Expectation Maximization(기댓값최대화)\n",
    "   * Visualization(시각화), Dimensionality reduction(차원축소)\n",
    "    . Principal Component Analysis(PCA 주성분분석)\n",
    "    . Kernal PCA\n",
    "    . Locally-Linear Embedding (LLE 지역적 선형 임베딩)\n",
    "    . t-distiributed Stochastic Neighbor Embedding(t-SNE)\n",
    "   * Association rule learning(연관규칙학습)\n",
    "    . Apriori\n",
    "    . Eclat\n",
    "    \n",
    " 3. Semisupervised Learning(준지도학습)\n",
    "  - 일부만 Lable 이 있는 Training Data로 학습\n",
    "  - 통상적으로 SL 과 UL 의 조합으로 이루어짐\n",
    "  - 구글 포토 호스팅 서비스처럼 가족사진을 올리면 사람A가 어느 사진에 있는지를 인식하는데 이게 UL 이고\n",
    "    사람A가 누구인지를 인식하는게 SL임\n",
    "  - 주요 알고리즘\n",
    "   . Deep Belief Network(DBN 심층 신뢰신경망)\n",
    "   . Restricted Boltzmann Machine(RBM 제한된 볼츠만 머신)\n",
    "  \n",
    " 4. Reinforcement Learning(강화학습)\n",
    "  - Agent라 부르는 학습 시스템이 Environment(환경) 을 관찰해서 Action(행동)하고\n",
    "    그결과로 Reward(보상) or Penalty(벌점) 을 받게됨\n",
    "    시간이 지나면서 가장 큰 보상을 얻기 위한 Policy(정책) 이라 부르는 최상의 전략을 스스로 학습\n",
    "  - 알파고가 이녀석임\n",
    "   \n",
    ">> 사례기반 학습 vs 모델기반 학습\n",
    " \n",
    " 1. 사례기반 학습\n",
    "  - 스팸메일과 유사한 메일에 대해 Similarity(유사도) 를 측정하고 유사도에 부합되는 메일은 스팸메일로 분류\n",
    "  \n",
    " 2. 모델기반 학습\n",
    "  - 샘플로부터 일반화시키기 위한 모델을 만들어 예측\n",
    "  \n",
    " => 위 두 학습들에 대한 Sample"
   ]
  },
  {
   "cell_type": "code",
   "execution_count": null,
   "metadata": {
    "collapsed": true
   },
   "outputs": [],
   "source": []
  }
 ],
 "metadata": {
  "kernelspec": {
   "display_name": "Python 3",
   "language": "python",
   "name": "python3"
  },
  "language_info": {
   "codemirror_mode": {
    "name": "ipython",
    "version": 3
   },
   "file_extension": ".py",
   "mimetype": "text/x-python",
   "name": "python",
   "nbconvert_exporter": "python",
   "pygments_lexer": "ipython3",
   "version": "3.6.2"
  }
 },
 "nbformat": 4,
 "nbformat_minor": 2
}
